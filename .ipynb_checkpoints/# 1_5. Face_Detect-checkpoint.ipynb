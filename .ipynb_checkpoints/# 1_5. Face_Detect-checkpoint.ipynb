{
 "cells": [
  {
   "cell_type": "markdown",
   "id": "daf3b9df",
   "metadata": {},
   "source": [
    "# 1. import"
   ]
  },
  {
   "cell_type": "code",
   "execution_count": null,
   "id": "5da1953b",
   "metadata": {},
   "outputs": [],
   "source": [
    "from google.colab import drive\n",
    "drive.mount('/content/drive')"
   ]
  },
  {
   "cell_type": "markdown",
   "id": "81e1aa6a",
   "metadata": {},
   "source": [
    "> 아래 줄을 실행하기전에 메뉴에서 런타임-런타임유형변경-하드웨어 가속기(GPU) 저장 설정이 필요"
   ]
  },
  {
   "cell_type": "code",
   "execution_count": null,
   "id": "bfff3f34",
   "metadata": {},
   "outputs": [],
   "source": [
    "!pip3 install face_recognition"
   ]
  },
  {
   "cell_type": "markdown",
   "id": "69342aee",
   "metadata": {},
   "source": [
    "# 2. Face Detection"
   ]
  },
  {
   "cell_type": "code",
   "execution_count": null,
   "id": "14c9e8d8",
   "metadata": {},
   "outputs": [],
   "source": [
    "import cv2, os\n",
    "import face_recognition as fr\n",
    "from IPython.display import Image, display\n",
    "import matplotlib.pyplot as plt\n",
    "%matplotlib inline"
   ]
  },
  {
   "cell_type": "markdown",
   "id": "2c704e75",
   "metadata": {},
   "source": [
    "## 2.1 Image Processing"
   ]
  },
  {
   "cell_type": "code",
   "execution_count": null,
   "id": "fddd3824",
   "metadata": {},
   "outputs": [],
   "source": [
    "import glob\n",
    "from PIL import Image"
   ]
  },
  {
   "cell_type": "markdown",
   "id": "5b4f1f2d",
   "metadata": {},
   "source": [
    "> file_path에 얼굴 추출할 대상 이미지들의 경로를 저장"
   ]
  },
  {
   "cell_type": "code",
   "execution_count": null,
   "id": "a1a05936",
   "metadata": {},
   "outputs": [],
   "source": [
    "def face_extract(file_path):\n",
    "  \n",
    "  files = glob.glob(file_path+\"*.*\")\n",
    "  image = []\n",
    "  for image_path in files:\n",
    "    image.append(fr.load_image_file(image_path))\n",
    "    # plt.imshow(image[-1])\n",
    "    # plt.show()\n",
    "\n",
    "  engineering = []\n",
    "\n",
    "  for dst in image:\n",
    "    face_locations = fr.face_locations(dst)\n",
    "\n",
    "    face_landmarks = fr.face_landmarks(dst)\n",
    "\n",
    "    color = (255,0,0)\n",
    "\n",
    "    for face_location in face_locations:\n",
    "      top,right,bottom,left = face_location\n",
    "      cv2.rectangle(dst, (left,top),(right,bottom),color,2)\n",
    "      temp_img = dst[:]\n",
    "      face_img = temp_img[top:bottom,left:right]\n",
    "      engineering.append(face_img)\n",
    "\n",
    "    plt.rcParams['figure.figsize'] = (5,5)\n",
    "    # plt.imshow(dst)\n",
    "    # plt.show()\n",
    "\n",
    "    plt.rcParams['figure.figsize'] = (1,1)\n",
    "\n",
    "  \n",
    "  for idx, person in enumerate(engineering):\n",
    "    try:\n",
    "      if not os.path.exists(file_path+'captured_images/'):\n",
    "        os.mkdir(file_path+'captured_images/')\n",
    "        Image.fromarray(person).save(file_path+'captured_images/face'+str(idx)+'.jpg')\n",
    "      else:\n",
    "        Image.fromarray(person).save(file_path+'captured_images/face'+str(idx)+'.jpg')\n",
    "    except OSError:\n",
    "      print(OSError)\n",
    "    # plt.imshow(person)\n",
    "    # plt.show()"
   ]
  },
  {
   "cell_type": "markdown",
   "id": "d62d90fc",
   "metadata": {},
   "source": [
    "> 결론적으로 인물 이미지가 있는 폴더의 경로를 매개변수로 입력하면 해당 폴더에서 captured_images 폴더를 생성하고 face0,face1.... face(n) 의 이름으로 이미지에서 얼굴을 추출하여 저장"
   ]
  },
  {
   "cell_type": "code",
   "execution_count": null,
   "id": "b2ac9df6",
   "metadata": {},
   "outputs": [],
   "source": [
    "file_path = '/content/drive/MyDrive/Colab Notebooks/얼굴인식프로젝트/images/'\n",
    "\n",
    "face_extract(file_path)"
   ]
  }
 ],
 "metadata": {
  "kernelspec": {
   "display_name": "Python 3 (ipykernel)",
   "language": "python",
   "name": "python3"
  },
  "language_info": {
   "codemirror_mode": {
    "name": "ipython",
    "version": 3
   },
   "file_extension": ".py",
   "mimetype": "text/x-python",
   "name": "python",
   "nbconvert_exporter": "python",
   "pygments_lexer": "ipython3",
   "version": "3.8.10"
  }
 },
 "nbformat": 4,
 "nbformat_minor": 5
}
